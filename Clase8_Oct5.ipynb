{
  "nbformat": 4,
  "nbformat_minor": 0,
  "metadata": {
    "colab": {
      "provenance": [],
      "mount_file_id": "1Kq5fIdZrae5G6ddo4fLLeBA3uQwIB-cP",
      "authorship_tag": "ABX9TyPwRvrKgXTM+I5VJLM0P9BB",
      "include_colab_link": true
    },
    "kernelspec": {
      "name": "python3",
      "display_name": "Python 3"
    },
    "language_info": {
      "name": "python"
    }
  },
  "cells": [
    {
      "cell_type": "markdown",
      "metadata": {
        "id": "view-in-github",
        "colab_type": "text"
      },
      "source": [
        "<a href=\"https://colab.research.google.com/github/LauraAlejandraFuentesArevalo/DS_Laura_Alejandra_Fuentes/blob/main/Clase8_Oct5.ipynb\" target=\"_parent\"><img src=\"https://colab.research.google.com/assets/colab-badge.svg\" alt=\"Open In Colab\"/></a>"
      ]
    },
    {
      "cell_type": "code",
      "execution_count": 22,
      "metadata": {
        "colab": {
          "base_uri": "https://localhost:8080/"
        },
        "id": "li6Z55ke8wUg",
        "outputId": "38a2bfa9-8e4f-4973-9fba-f5e04b69b270"
      },
      "outputs": [
        {
          "output_type": "stream",
          "name": "stdout",
          "text": [
            "** Versiones Actuales | Requeridas **\n",
            "NumPy: Version Actual: 1.21.6\n",
            "Pandas: Version Actual: 1.3.5\n"
          ]
        }
      ],
      "source": [
        "import numpy as np\n",
        "import pandas as pd\n",
        "\n",
        "print('** Versiones Actuales | Requeridas **')\n",
        "print('NumPy: Version Actual:', np.__version__)\n",
        "print('Pandas: Version Actual:', pd.__version__)\n",
        "\n",
        "#librerias para graficar\n",
        "import sys\n",
        "import numpy as np\n",
        "import pandas as pd\n",
        "# Librería para medidas de posición y forma\n",
        "import scipy\n",
        "import scipy.stats as stats\n",
        "# Librerías para visualización\n",
        "import seaborn as sns\n",
        "import matplotlib\n",
        "import matplotlib.pyplot as plt"
      ]
    },
    {
      "cell_type": "code",
      "source": [
        "ruta = \"//content/drive/MyDrive/Colab Notebooks/data_set/Clase_Oct5.csv\"\n",
        "df = pd.read_csv(filepath_or_buffer=ruta)"
      ],
      "metadata": {
        "id": "OQH1sS2p9SJu"
      },
      "execution_count": 5,
      "outputs": []
    },
    {
      "cell_type": "code",
      "source": [
        "df1=df"
      ],
      "metadata": {
        "id": "GWvdV1vL9vS9"
      },
      "execution_count": 6,
      "outputs": []
    },
    {
      "cell_type": "code",
      "source": [
        "dfarreglada=df1.fillna(0)\n",
        "#2021\n",
        "df_prueba2=dfarreglada\n",
        "df_prueba2[\"year\"]= pd.to_datetime(dfarreglada[\"year\"], format = '%Y')\n",
        "#df_prueba2"
      ],
      "metadata": {
        "id": "tLcRwxv-9xVB"
      },
      "execution_count": 10,
      "outputs": []
    },
    {
      "cell_type": "code",
      "source": [
        "df_prueba2.keys()\n",
        "df_prueba2"
      ],
      "metadata": {
        "colab": {
          "base_uri": "https://localhost:8080/",
          "height": 424
        },
        "id": "RskJajhj95mF",
        "outputId": "cfc0a9e4-bbc6-434e-ef7b-f0d0268fb053"
      },
      "execution_count": 30,
      "outputs": [
        {
          "output_type": "execute_result",
          "data": {
            "text/plain": [
              "      countrycode   country       year        rgdpo        pop       emp  avh  \\\n",
              "0             ABW     Aruba 1950-01-01      0.00000   0.000000  0.000000  0.0   \n",
              "1             ABW     Aruba 1951-01-01      0.00000   0.000000  0.000000  0.0   \n",
              "2             ABW     Aruba 1952-01-01      0.00000   0.000000  0.000000  0.0   \n",
              "3             ABW     Aruba 1953-01-01      0.00000   0.000000  0.000000  0.0   \n",
              "4             ABW     Aruba 1954-01-01      0.00000   0.000000  0.000000  0.0   \n",
              "...           ...       ...        ...          ...        ...       ...  ...   \n",
              "12371         ZWE  Zimbabwe 2013-01-01  28329.81055  15.054506  7.914061  0.0   \n",
              "12372         ZWE  Zimbabwe 2014-01-01  29355.75977  15.411675  8.222112  0.0   \n",
              "12373         ZWE  Zimbabwe 2015-01-01  29150.75000  15.777451  8.530669  0.0   \n",
              "12374         ZWE  Zimbabwe 2016-01-01  29420.44922  16.150362  8.839398  0.0   \n",
              "12375         ZWE  Zimbabwe 2017-01-01  30940.81641  16.529903  9.181251  0.0   \n",
              "\n",
              "             hc  \n",
              "0      0.000000  \n",
              "1      0.000000  \n",
              "2      0.000000  \n",
              "3      0.000000  \n",
              "4      0.000000  \n",
              "...         ...  \n",
              "12371  2.504635  \n",
              "12372  2.550258  \n",
              "12373  2.584653  \n",
              "12374  2.616257  \n",
              "12375  2.648248  \n",
              "\n",
              "[12376 rows x 8 columns]"
            ],
            "text/html": [
              "\n",
              "  <div id=\"df-a34aa475-5988-4f95-914e-8600c0ff9f2b\">\n",
              "    <div class=\"colab-df-container\">\n",
              "      <div>\n",
              "<style scoped>\n",
              "    .dataframe tbody tr th:only-of-type {\n",
              "        vertical-align: middle;\n",
              "    }\n",
              "\n",
              "    .dataframe tbody tr th {\n",
              "        vertical-align: top;\n",
              "    }\n",
              "\n",
              "    .dataframe thead th {\n",
              "        text-align: right;\n",
              "    }\n",
              "</style>\n",
              "<table border=\"1\" class=\"dataframe\">\n",
              "  <thead>\n",
              "    <tr style=\"text-align: right;\">\n",
              "      <th></th>\n",
              "      <th>countrycode</th>\n",
              "      <th>country</th>\n",
              "      <th>year</th>\n",
              "      <th>rgdpo</th>\n",
              "      <th>pop</th>\n",
              "      <th>emp</th>\n",
              "      <th>avh</th>\n",
              "      <th>hc</th>\n",
              "    </tr>\n",
              "  </thead>\n",
              "  <tbody>\n",
              "    <tr>\n",
              "      <th>0</th>\n",
              "      <td>ABW</td>\n",
              "      <td>Aruba</td>\n",
              "      <td>1950-01-01</td>\n",
              "      <td>0.00000</td>\n",
              "      <td>0.000000</td>\n",
              "      <td>0.000000</td>\n",
              "      <td>0.0</td>\n",
              "      <td>0.000000</td>\n",
              "    </tr>\n",
              "    <tr>\n",
              "      <th>1</th>\n",
              "      <td>ABW</td>\n",
              "      <td>Aruba</td>\n",
              "      <td>1951-01-01</td>\n",
              "      <td>0.00000</td>\n",
              "      <td>0.000000</td>\n",
              "      <td>0.000000</td>\n",
              "      <td>0.0</td>\n",
              "      <td>0.000000</td>\n",
              "    </tr>\n",
              "    <tr>\n",
              "      <th>2</th>\n",
              "      <td>ABW</td>\n",
              "      <td>Aruba</td>\n",
              "      <td>1952-01-01</td>\n",
              "      <td>0.00000</td>\n",
              "      <td>0.000000</td>\n",
              "      <td>0.000000</td>\n",
              "      <td>0.0</td>\n",
              "      <td>0.000000</td>\n",
              "    </tr>\n",
              "    <tr>\n",
              "      <th>3</th>\n",
              "      <td>ABW</td>\n",
              "      <td>Aruba</td>\n",
              "      <td>1953-01-01</td>\n",
              "      <td>0.00000</td>\n",
              "      <td>0.000000</td>\n",
              "      <td>0.000000</td>\n",
              "      <td>0.0</td>\n",
              "      <td>0.000000</td>\n",
              "    </tr>\n",
              "    <tr>\n",
              "      <th>4</th>\n",
              "      <td>ABW</td>\n",
              "      <td>Aruba</td>\n",
              "      <td>1954-01-01</td>\n",
              "      <td>0.00000</td>\n",
              "      <td>0.000000</td>\n",
              "      <td>0.000000</td>\n",
              "      <td>0.0</td>\n",
              "      <td>0.000000</td>\n",
              "    </tr>\n",
              "    <tr>\n",
              "      <th>...</th>\n",
              "      <td>...</td>\n",
              "      <td>...</td>\n",
              "      <td>...</td>\n",
              "      <td>...</td>\n",
              "      <td>...</td>\n",
              "      <td>...</td>\n",
              "      <td>...</td>\n",
              "      <td>...</td>\n",
              "    </tr>\n",
              "    <tr>\n",
              "      <th>12371</th>\n",
              "      <td>ZWE</td>\n",
              "      <td>Zimbabwe</td>\n",
              "      <td>2013-01-01</td>\n",
              "      <td>28329.81055</td>\n",
              "      <td>15.054506</td>\n",
              "      <td>7.914061</td>\n",
              "      <td>0.0</td>\n",
              "      <td>2.504635</td>\n",
              "    </tr>\n",
              "    <tr>\n",
              "      <th>12372</th>\n",
              "      <td>ZWE</td>\n",
              "      <td>Zimbabwe</td>\n",
              "      <td>2014-01-01</td>\n",
              "      <td>29355.75977</td>\n",
              "      <td>15.411675</td>\n",
              "      <td>8.222112</td>\n",
              "      <td>0.0</td>\n",
              "      <td>2.550258</td>\n",
              "    </tr>\n",
              "    <tr>\n",
              "      <th>12373</th>\n",
              "      <td>ZWE</td>\n",
              "      <td>Zimbabwe</td>\n",
              "      <td>2015-01-01</td>\n",
              "      <td>29150.75000</td>\n",
              "      <td>15.777451</td>\n",
              "      <td>8.530669</td>\n",
              "      <td>0.0</td>\n",
              "      <td>2.584653</td>\n",
              "    </tr>\n",
              "    <tr>\n",
              "      <th>12374</th>\n",
              "      <td>ZWE</td>\n",
              "      <td>Zimbabwe</td>\n",
              "      <td>2016-01-01</td>\n",
              "      <td>29420.44922</td>\n",
              "      <td>16.150362</td>\n",
              "      <td>8.839398</td>\n",
              "      <td>0.0</td>\n",
              "      <td>2.616257</td>\n",
              "    </tr>\n",
              "    <tr>\n",
              "      <th>12375</th>\n",
              "      <td>ZWE</td>\n",
              "      <td>Zimbabwe</td>\n",
              "      <td>2017-01-01</td>\n",
              "      <td>30940.81641</td>\n",
              "      <td>16.529903</td>\n",
              "      <td>9.181251</td>\n",
              "      <td>0.0</td>\n",
              "      <td>2.648248</td>\n",
              "    </tr>\n",
              "  </tbody>\n",
              "</table>\n",
              "<p>12376 rows × 8 columns</p>\n",
              "</div>\n",
              "      <button class=\"colab-df-convert\" onclick=\"convertToInteractive('df-a34aa475-5988-4f95-914e-8600c0ff9f2b')\"\n",
              "              title=\"Convert this dataframe to an interactive table.\"\n",
              "              style=\"display:none;\">\n",
              "        \n",
              "  <svg xmlns=\"http://www.w3.org/2000/svg\" height=\"24px\"viewBox=\"0 0 24 24\"\n",
              "       width=\"24px\">\n",
              "    <path d=\"M0 0h24v24H0V0z\" fill=\"none\"/>\n",
              "    <path d=\"M18.56 5.44l.94 2.06.94-2.06 2.06-.94-2.06-.94-.94-2.06-.94 2.06-2.06.94zm-11 1L8.5 8.5l.94-2.06 2.06-.94-2.06-.94L8.5 2.5l-.94 2.06-2.06.94zm10 10l.94 2.06.94-2.06 2.06-.94-2.06-.94-.94-2.06-.94 2.06-2.06.94z\"/><path d=\"M17.41 7.96l-1.37-1.37c-.4-.4-.92-.59-1.43-.59-.52 0-1.04.2-1.43.59L10.3 9.45l-7.72 7.72c-.78.78-.78 2.05 0 2.83L4 21.41c.39.39.9.59 1.41.59.51 0 1.02-.2 1.41-.59l7.78-7.78 2.81-2.81c.8-.78.8-2.07 0-2.86zM5.41 20L4 18.59l7.72-7.72 1.47 1.35L5.41 20z\"/>\n",
              "  </svg>\n",
              "      </button>\n",
              "      \n",
              "  <style>\n",
              "    .colab-df-container {\n",
              "      display:flex;\n",
              "      flex-wrap:wrap;\n",
              "      gap: 12px;\n",
              "    }\n",
              "\n",
              "    .colab-df-convert {\n",
              "      background-color: #E8F0FE;\n",
              "      border: none;\n",
              "      border-radius: 50%;\n",
              "      cursor: pointer;\n",
              "      display: none;\n",
              "      fill: #1967D2;\n",
              "      height: 32px;\n",
              "      padding: 0 0 0 0;\n",
              "      width: 32px;\n",
              "    }\n",
              "\n",
              "    .colab-df-convert:hover {\n",
              "      background-color: #E2EBFA;\n",
              "      box-shadow: 0px 1px 2px rgba(60, 64, 67, 0.3), 0px 1px 3px 1px rgba(60, 64, 67, 0.15);\n",
              "      fill: #174EA6;\n",
              "    }\n",
              "\n",
              "    [theme=dark] .colab-df-convert {\n",
              "      background-color: #3B4455;\n",
              "      fill: #D2E3FC;\n",
              "    }\n",
              "\n",
              "    [theme=dark] .colab-df-convert:hover {\n",
              "      background-color: #434B5C;\n",
              "      box-shadow: 0px 1px 3px 1px rgba(0, 0, 0, 0.15);\n",
              "      filter: drop-shadow(0px 1px 2px rgba(0, 0, 0, 0.3));\n",
              "      fill: #FFFFFF;\n",
              "    }\n",
              "  </style>\n",
              "\n",
              "      <script>\n",
              "        const buttonEl =\n",
              "          document.querySelector('#df-a34aa475-5988-4f95-914e-8600c0ff9f2b button.colab-df-convert');\n",
              "        buttonEl.style.display =\n",
              "          google.colab.kernel.accessAllowed ? 'block' : 'none';\n",
              "\n",
              "        async function convertToInteractive(key) {\n",
              "          const element = document.querySelector('#df-a34aa475-5988-4f95-914e-8600c0ff9f2b');\n",
              "          const dataTable =\n",
              "            await google.colab.kernel.invokeFunction('convertToInteractive',\n",
              "                                                     [key], {});\n",
              "          if (!dataTable) return;\n",
              "\n",
              "          const docLinkHtml = 'Like what you see? Visit the ' +\n",
              "            '<a target=\"_blank\" href=https://colab.research.google.com/notebooks/data_table.ipynb>data table notebook</a>'\n",
              "            + ' to learn more about interactive tables.';\n",
              "          element.innerHTML = '';\n",
              "          dataTable['output_type'] = 'display_data';\n",
              "          await google.colab.output.renderOutput(dataTable, element);\n",
              "          const docLink = document.createElement('div');\n",
              "          docLink.innerHTML = docLinkHtml;\n",
              "          element.appendChild(docLink);\n",
              "        }\n",
              "      </script>\n",
              "    </div>\n",
              "  </div>\n",
              "  "
            ]
          },
          "metadata": {},
          "execution_count": 30
        }
      ]
    },
    {
      "cell_type": "code",
      "source": [
        "df3=df_prueba2.groupby(\"country\").sum().reset_index()\n"
      ],
      "metadata": {
        "id": "J27zFnPR-Ca0"
      },
      "execution_count": 44,
      "outputs": []
    },
    {
      "cell_type": "code",
      "source": [
        "df3= df3[ (df3[\"hc\"]>100) & (df3[\"hc\"]<150)]\n",
        "#fig= espacio          /          ax=marco de la figura que está generando. si no lo escribo, igual lo genera\n",
        "fig, ax= plt.subplots(figsize = (20, 10))\n",
        "fig_1=sns.barplot(y= df3[\"country\"],x= df3[\"hc\"])\n",
        "plt.show()\n",
        "fig = fig_1.get_figure()\n",
        "fig.savefig(\"output.png\")\n",
        "#la grafica se graba en la carpeta de la izquierda, fuera de Drive"
      ],
      "metadata": {
        "colab": {
          "base_uri": "https://localhost:8080/",
          "height": 571
        },
        "id": "sUgGHRZA_VtD",
        "outputId": "3ef30a87-e28f-4e72-907f-f5046491e23b"
      },
      "execution_count": 45,
      "outputs": [
        {
          "output_type": "display_data",
          "data": {
            "text/plain": [
              "<Figure size 1440x720 with 1 Axes>"
            ],
            "image/png": "[encoded data removed]"
          },
          "metadata": {
            "needs_background": "light"
          }
        }
      ]
    },
    {
      "cell_type": "code",
      "source": [
        "df3.keys()"
      ],
      "metadata": {
        "colab": {
          "base_uri": "https://localhost:8080/"
        },
        "id": "q5gigkecEMgc",
        "outputId": "3824b645-c034-4e4e-aad5-241ccd74d5e8"
      },
      "execution_count": 46,
      "outputs": [
        {
          "output_type": "execute_result",
          "data": {
            "text/plain": [
              "Index(['country', 'rgdpo', 'pop', 'emp', 'avh', 'hc'], dtype='object')"
            ]
          },
          "metadata": {},
          "execution_count": 46
        }
      ]
    },
    {
      "cell_type": "code",
      "source": [
        "#OTRO TIPO DE GRÁFICA\n",
        "\n",
        "sns.boxplot(data=df3, x=\"hc\")"
      ],
      "metadata": {
        "colab": {
          "base_uri": "https://localhost:8080/",
          "height": 296
        },
        "id": "bEJX3vc9EQFI",
        "outputId": "320d0335-f53b-4827-801d-9e3f52841182"
      },
      "execution_count": 47,
      "outputs": [
        {
          "output_type": "execute_result",
          "data": {
            "text/plain": [
              "<matplotlib.axes._subplots.AxesSubplot at 0x7fc40b34d710>"
            ]
          },
          "metadata": {},
          "execution_count": 47
        },
        {
          "output_type": "display_data",
          "data": {
            "text/plain": [
              "<Figure size 432x288 with 1 Axes>"
            ],
            "image/png": "[encoded data removed]"
          },
          "metadata": {
            "needs_background": "light"
          }
        }
      ]
    },
    {
      "cell_type": "code",
      "source": [
        "#Para ver maximos, minimos y cuantiles\n",
        "fig, ax= plt.subplots(figsize = (20, 5))\n",
        "sns.boxplot(data=df3, x=\"pop\")"
      ],
      "metadata": {
        "colab": {
          "base_uri": "https://localhost:8080/",
          "height": 351
        },
        "id": "sOwizCwIEiI5",
        "outputId": "d23260cd-03f4-4a3a-9fca-2a567890387c"
      },
      "execution_count": 48,
      "outputs": [
        {
          "output_type": "execute_result",
          "data": {
            "text/plain": [
              "<matplotlib.axes._subplots.AxesSubplot at 0x7fc40b3ee050>"
            ]
          },
          "metadata": {},
          "execution_count": 48
        },
        {
          "output_type": "display_data",
          "data": {
            "text/plain": [
              "<Figure size 1440x360 with 1 Axes>"
            ],
            "image/png": "[encoded data removed]"
          },
          "metadata": {
            "needs_background": "light"
          }
        }
      ]
    },
    {
      "cell_type": "code",
      "source": [
        "#Graficar de acuerdo a dos variables\n",
        "df4= df3[ (df3[\"pop\"]<1100)]\n",
        "fig, ax= plt.subplots(figsize = (10, 10))\n",
        "sns.boxplot(data=df4[[\"pop\",\"emp\"]])"
      ],
      "metadata": {
        "colab": {
          "base_uri": "https://localhost:8080/",
          "height": 609
        },
        "id": "7Zn8mgvDE5Vv",
        "outputId": "acf70b47-44b0-4ea0-f17f-cd5cd346e406"
      },
      "execution_count": 52,
      "outputs": [
        {
          "output_type": "execute_result",
          "data": {
            "text/plain": [
              "<matplotlib.axes._subplots.AxesSubplot at 0x7fc40b9a01d0>"
            ]
          },
          "metadata": {},
          "execution_count": 52
        },
        {
          "output_type": "display_data",
          "data": {
            "text/plain": [
              "<Figure size 720x720 with 1 Axes>"
            ],
            "image/png": "[encoded data removed]"
          },
          "metadata": {
            "needs_background": "light"
          }
        }
      ]
    },
    {
      "cell_type": "code",
      "source": [],
      "metadata": {
        "id": "cE_q-lGnIIGq"
      },
      "execution_count": null,
      "outputs": []
    }
  ]
}